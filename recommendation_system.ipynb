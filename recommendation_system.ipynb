{
 "cells": [
  {
   "cell_type": "markdown",
   "id": "50e08863",
   "metadata": {},
   "source": [
    "## Recommendation System: Overview and Dataset\n",
    "\n",
    "Recommendation systems are what make platforms like **Netflix, Amazon, Spotify, and YouTube** so personalized. They suggest what to watch, buy, or listen to next based on content or user behavior.\n",
    "\n",
    "In this project, we’ll build a **content-based recommendation system** for Netflix 2023 content data. The dataset includes:\n",
    "\n",
    "* `Title` – name of the show/movie\n",
    "* `Available Globally?`\n",
    "* `Release Date`\n",
    "* `Hours Viewed` – popularity measure\n",
    "* `Language Indicator`\n",
    "* `Content Type` – movie, series, etc.\n",
    "\n",
    "We’ll convert this data to a numerical format, train a neural network, and use embeddings to find **similar content**."
   ]
  },
  {
   "cell_type": "markdown",
   "id": "72263d4a",
   "metadata": {},
   "source": [
    "## Step 1: Load and Understand the Dataset"
   ]
  },
  {
   "cell_type": "code",
   "execution_count": 18,
   "id": "63fc6bbd",
   "metadata": {},
   "outputs": [
    {
     "data": {
      "text/html": [
       "<div>\n",
       "<style scoped>\n",
       "    .dataframe tbody tr th:only-of-type {\n",
       "        vertical-align: middle;\n",
       "    }\n",
       "\n",
       "    .dataframe tbody tr th {\n",
       "        vertical-align: top;\n",
       "    }\n",
       "\n",
       "    .dataframe thead th {\n",
       "        text-align: right;\n",
       "    }\n",
       "</style>\n",
       "<table border=\"1\" class=\"dataframe\">\n",
       "  <thead>\n",
       "    <tr style=\"text-align: right;\">\n",
       "      <th></th>\n",
       "      <th>Title</th>\n",
       "      <th>Available Globally?</th>\n",
       "      <th>Release Date</th>\n",
       "      <th>Hours Viewed</th>\n",
       "      <th>Language Indicator</th>\n",
       "      <th>Content Type</th>\n",
       "    </tr>\n",
       "  </thead>\n",
       "  <tbody>\n",
       "    <tr>\n",
       "      <th>0</th>\n",
       "      <td>The Night Agent: Season 1</td>\n",
       "      <td>Yes</td>\n",
       "      <td>2023-03-23</td>\n",
       "      <td>81,21,00,000</td>\n",
       "      <td>English</td>\n",
       "      <td>Show</td>\n",
       "    </tr>\n",
       "    <tr>\n",
       "      <th>1</th>\n",
       "      <td>Ginny &amp; Georgia: Season 2</td>\n",
       "      <td>Yes</td>\n",
       "      <td>2023-01-05</td>\n",
       "      <td>66,51,00,000</td>\n",
       "      <td>English</td>\n",
       "      <td>Show</td>\n",
       "    </tr>\n",
       "    <tr>\n",
       "      <th>2</th>\n",
       "      <td>The Glory: Season 1 // 더 글로리: 시즌 1</td>\n",
       "      <td>Yes</td>\n",
       "      <td>2022-12-30</td>\n",
       "      <td>62,28,00,000</td>\n",
       "      <td>Korean</td>\n",
       "      <td>Show</td>\n",
       "    </tr>\n",
       "    <tr>\n",
       "      <th>3</th>\n",
       "      <td>Wednesday: Season 1</td>\n",
       "      <td>Yes</td>\n",
       "      <td>2022-11-23</td>\n",
       "      <td>50,77,00,000</td>\n",
       "      <td>English</td>\n",
       "      <td>Show</td>\n",
       "    </tr>\n",
       "    <tr>\n",
       "      <th>4</th>\n",
       "      <td>Queen Charlotte: A Bridgerton Story</td>\n",
       "      <td>Yes</td>\n",
       "      <td>2023-05-04</td>\n",
       "      <td>50,30,00,000</td>\n",
       "      <td>English</td>\n",
       "      <td>Movie</td>\n",
       "    </tr>\n",
       "  </tbody>\n",
       "</table>\n",
       "</div>"
      ],
      "text/plain": [
       "                                 Title Available Globally? Release Date  \\\n",
       "0            The Night Agent: Season 1                 Yes   2023-03-23   \n",
       "1            Ginny & Georgia: Season 2                 Yes   2023-01-05   \n",
       "2   The Glory: Season 1 // 더 글로리: 시즌 1                 Yes   2022-12-30   \n",
       "3                  Wednesday: Season 1                 Yes   2022-11-23   \n",
       "4  Queen Charlotte: A Bridgerton Story                 Yes   2023-05-04   \n",
       "\n",
       "   Hours Viewed Language Indicator Content Type  \n",
       "0  81,21,00,000            English         Show  \n",
       "1  66,51,00,000            English         Show  \n",
       "2  62,28,00,000             Korean         Show  \n",
       "3  50,77,00,000            English         Show  \n",
       "4  50,30,00,000            English        Movie  "
      ]
     },
     "execution_count": 18,
     "metadata": {},
     "output_type": "execute_result"
    }
   ],
   "source": [
    "import pandas as pd\n",
    "\n",
    "# Load dataset\n",
    "df = pd.read_csv(\"netflix_content.csv\")\n",
    "df.head()"
   ]
  },
  {
   "cell_type": "markdown",
   "id": "25e3e45c",
   "metadata": {},
   "source": [
    "The dataset is rich for content-based filtering. Each title has metadata that helps the model understand similarities between content.\n",
    "\n"
   ]
  },
  {
   "cell_type": "markdown",
   "id": "acba5261",
   "metadata": {},
   "source": [
    "## Step 2: Clean and Preprocess the Data"
   ]
  },
  {
   "cell_type": "code",
   "execution_count": 19,
   "id": "ab8e3719",
   "metadata": {},
   "outputs": [
    {
     "data": {
      "text/html": [
       "<div>\n",
       "<style scoped>\n",
       "    .dataframe tbody tr th:only-of-type {\n",
       "        vertical-align: middle;\n",
       "    }\n",
       "\n",
       "    .dataframe tbody tr th {\n",
       "        vertical-align: top;\n",
       "    }\n",
       "\n",
       "    .dataframe thead th {\n",
       "        text-align: right;\n",
       "    }\n",
       "</style>\n",
       "<table border=\"1\" class=\"dataframe\">\n",
       "  <thead>\n",
       "    <tr style=\"text-align: right;\">\n",
       "      <th></th>\n",
       "      <th>Content_ID</th>\n",
       "      <th>Title</th>\n",
       "      <th>Hours Viewed</th>\n",
       "      <th>Language_ID</th>\n",
       "      <th>ContentType_ID</th>\n",
       "    </tr>\n",
       "  </thead>\n",
       "  <tbody>\n",
       "    <tr>\n",
       "      <th>0</th>\n",
       "      <td>0</td>\n",
       "      <td>The Night Agent: Season 1</td>\n",
       "      <td>812100000</td>\n",
       "      <td>0</td>\n",
       "      <td>1</td>\n",
       "    </tr>\n",
       "    <tr>\n",
       "      <th>1</th>\n",
       "      <td>1</td>\n",
       "      <td>Ginny &amp; Georgia: Season 2</td>\n",
       "      <td>665100000</td>\n",
       "      <td>0</td>\n",
       "      <td>1</td>\n",
       "    </tr>\n",
       "    <tr>\n",
       "      <th>2</th>\n",
       "      <td>2</td>\n",
       "      <td>The Glory: Season 1 // 더 글로리: 시즌 1</td>\n",
       "      <td>622800000</td>\n",
       "      <td>3</td>\n",
       "      <td>1</td>\n",
       "    </tr>\n",
       "    <tr>\n",
       "      <th>3</th>\n",
       "      <td>3</td>\n",
       "      <td>Wednesday: Season 1</td>\n",
       "      <td>507700000</td>\n",
       "      <td>0</td>\n",
       "      <td>1</td>\n",
       "    </tr>\n",
       "    <tr>\n",
       "      <th>4</th>\n",
       "      <td>4</td>\n",
       "      <td>Queen Charlotte: A Bridgerton Story</td>\n",
       "      <td>503000000</td>\n",
       "      <td>0</td>\n",
       "      <td>0</td>\n",
       "    </tr>\n",
       "  </tbody>\n",
       "</table>\n",
       "</div>"
      ],
      "text/plain": [
       "   Content_ID                                Title  Hours Viewed  Language_ID  \\\n",
       "0           0            The Night Agent: Season 1     812100000            0   \n",
       "1           1            Ginny & Georgia: Season 2     665100000            0   \n",
       "2           2   The Glory: Season 1 // 더 글로리: 시즌 1     622800000            3   \n",
       "3           3                  Wednesday: Season 1     507700000            0   \n",
       "4           4  Queen Charlotte: A Bridgerton Story     503000000            0   \n",
       "\n",
       "   ContentType_ID  \n",
       "0               1  \n",
       "1               1  \n",
       "2               1  \n",
       "3               1  \n",
       "4               0  "
      ]
     },
     "execution_count": 19,
     "metadata": {},
     "output_type": "execute_result"
    }
   ],
   "source": [
    "# Remove commas from 'Hours Viewed' and convert to integer\n",
    "df['Hours Viewed'] = df['Hours Viewed'].str.replace(',', '', regex=False).astype('int64')\n",
    "\n",
    "# Drop missing or duplicate titles\n",
    "df.dropna(subset=['Title'], inplace=True)\n",
    "df.drop_duplicates(subset=['Title'], inplace=True)\n",
    "\n",
    "# Create IDs for embeddings\n",
    "df['Content_ID'] = df.reset_index().index.astype('int32')\n",
    "\n",
    "# Encode categorical features\n",
    "df['Language_ID'] = df['Language Indicator'].astype('category').cat.codes\n",
    "df['ContentType_ID'] = df['Content Type'].astype('category').cat.codes\n",
    "\n",
    "df[['Content_ID', 'Title', 'Hours Viewed', 'Language_ID', 'ContentType_ID']].head()"
   ]
  },
  {
   "cell_type": "markdown",
   "id": "b81d5544",
   "metadata": {},
   "source": [
    "TensorFlow requires numerical inputs, so we convert all string features to numeric codes. Each content item now has its own ID and encoded language/type."
   ]
  },
  {
   "cell_type": "markdown",
   "id": "66714787",
   "metadata": {},
   "source": [
    "## Step 3: Build a Neural Recommendation Model"
   ]
  },
  {
   "cell_type": "code",
   "execution_count": 20,
   "id": "9e3166fb",
   "metadata": {},
   "outputs": [],
   "source": [
    "import tensorflow as tf\n",
    "from tensorflow.keras import layers, Model\n",
    "\n",
    "num_contents = df['Content_ID'].nunique()\n",
    "num_languages = df['Language_ID'].nunique()\n",
    "num_types = df['ContentType_ID'].nunique()\n",
    "\n",
    "# Input layers\n",
    "content_input = layers.Input(shape=(1,), dtype=tf.int32, name='content_id')\n",
    "language_input = layers.Input(shape=(1,), dtype=tf.int32, name='language_id')\n",
    "type_input = layers.Input(shape=(1,), dtype=tf.int32, name='content_type')\n",
    "\n",
    "# Embeddings\n",
    "content_embedding = layers.Embedding(input_dim=num_contents+1, output_dim=32)(content_input)\n",
    "language_embedding = layers.Embedding(input_dim=num_languages+1, output_dim=8)(language_input)\n",
    "type_embedding = layers.Embedding(input_dim=num_types+1, output_dim=4)(type_input)\n",
    "\n",
    "# Flatten embeddings\n",
    "content_vec = layers.Flatten()(content_embedding)\n",
    "language_vec = layers.Flatten()(language_embedding)\n",
    "type_vec = layers.Flatten()(type_embedding)\n",
    "\n",
    "# Combine features\n",
    "combined = layers.Concatenate()([content_vec, language_vec, type_vec])\n",
    "x = layers.Dense(64, activation='relu')(combined)\n",
    "x = layers.Dense(32, activation='relu')(x)\n",
    "output = layers.Dense(num_contents, activation='softmax')(x)\n",
    "\n",
    "# Build and compile model\n",
    "model = Model(inputs=[content_input, language_input, type_input], outputs=output)\n",
    "model.compile(optimizer='adam', loss='sparse_categorical_crossentropy', metrics=['accuracy'])"
   ]
  },
  {
   "cell_type": "markdown",
   "id": "fb9ff80d",
   "metadata": {},
   "source": [
    "Embeddings compress high-dimensional data (like content IDs or languages) into dense vectors. Similar content will have similar embeddings, so the model can learn relationships between shows/movies.\n"
   ]
  },
  {
   "cell_type": "markdown",
   "id": "38179960",
   "metadata": {},
   "source": [
    "## Step 4: Train the Recommendation Model"
   ]
  },
  {
   "cell_type": "code",
   "execution_count": 21,
   "id": "aab7adc4",
   "metadata": {},
   "outputs": [
    {
     "name": "stdout",
     "output_type": "stream",
     "text": [
      "Epoch 1/5\n",
      "\u001b[1m300/300\u001b[0m \u001b[32m━━━━━━━━━━━━━━━━━━━━\u001b[0m\u001b[37m\u001b[0m \u001b[1m6s\u001b[0m 17ms/step - accuracy: 0.0000e+00 - loss: 9.9127\n",
      "Epoch 2/5\n",
      "\u001b[1m300/300\u001b[0m \u001b[32m━━━━━━━━━━━━━━━━━━━━\u001b[0m\u001b[37m\u001b[0m \u001b[1m5s\u001b[0m 17ms/step - accuracy: 0.0000e+00 - loss: 9.8677\n",
      "Epoch 3/5\n",
      "\u001b[1m300/300\u001b[0m \u001b[32m━━━━━━━━━━━━━━━━━━━━\u001b[0m\u001b[37m\u001b[0m \u001b[1m5s\u001b[0m 17ms/step - accuracy: 5.2198e-04 - loss: 9.4953\n",
      "Epoch 4/5\n",
      "\u001b[1m300/300\u001b[0m \u001b[32m━━━━━━━━━━━━━━━━━━━━\u001b[0m\u001b[37m\u001b[0m \u001b[1m5s\u001b[0m 16ms/step - accuracy: 0.0129 - loss: 7.7804\n",
      "Epoch 5/5\n",
      "\u001b[1m300/300\u001b[0m \u001b[32m━━━━━━━━━━━━━━━━━━━━\u001b[0m\u001b[37m\u001b[0m \u001b[1m5s\u001b[0m 17ms/step - accuracy: 0.1430 - loss: 5.5733\n"
     ]
    },
    {
     "data": {
      "text/plain": [
       "<keras.src.callbacks.history.History at 0x14c7856bc80>"
      ]
     },
     "execution_count": 21,
     "metadata": {},
     "output_type": "execute_result"
    }
   ],
   "source": [
    "model.fit(\n",
    "    x={\n",
    "        'content_id': df['Content_ID'],\n",
    "        'language_id': df['Language_ID'],\n",
    "        'content_type': df['ContentType_ID']\n",
    "    },\n",
    "    y=df['Content_ID'],\n",
    "    epochs=5,\n",
    "    batch_size=64\n",
    ")"
   ]
  },
  {
   "cell_type": "markdown",
   "id": "21f845a0",
   "metadata": {},
   "source": [
    "This is a self-supervised approach — the model tries to predict content based on its metadata. Over time, it learns a **vector space** where similar content clusters together."
   ]
  },
  {
   "cell_type": "markdown",
   "id": "627f8e89",
   "metadata": {},
   "source": [
    "## Step 5: Recommend Similar Content"
   ]
  },
  {
   "cell_type": "code",
   "execution_count": 22,
   "id": "de053c81",
   "metadata": {},
   "outputs": [
    {
     "name": "stdout",
     "output_type": "stream",
     "text": [
      "\u001b[1m1/1\u001b[0m \u001b[32m━━━━━━━━━━━━━━━━━━━━\u001b[0m\u001b[37m\u001b[0m \u001b[1m0s\u001b[0m 271ms/step\n"
     ]
    },
    {
     "data": {
      "text/html": [
       "<div>\n",
       "<style scoped>\n",
       "    .dataframe tbody tr th:only-of-type {\n",
       "        vertical-align: middle;\n",
       "    }\n",
       "\n",
       "    .dataframe tbody tr th {\n",
       "        vertical-align: top;\n",
       "    }\n",
       "\n",
       "    .dataframe thead th {\n",
       "        text-align: right;\n",
       "    }\n",
       "</style>\n",
       "<table border=\"1\" class=\"dataframe\">\n",
       "  <thead>\n",
       "    <tr style=\"text-align: right;\">\n",
       "      <th></th>\n",
       "      <th>Title</th>\n",
       "      <th>Language Indicator</th>\n",
       "      <th>Content Type</th>\n",
       "      <th>Hours Viewed</th>\n",
       "    </tr>\n",
       "  </thead>\n",
       "  <tbody>\n",
       "    <tr>\n",
       "      <th>3</th>\n",
       "      <td>Wednesday: Season 1</td>\n",
       "      <td>English</td>\n",
       "      <td>Show</td>\n",
       "      <td>507700000</td>\n",
       "    </tr>\n",
       "    <tr>\n",
       "      <th>3193</th>\n",
       "      <td>Somebody Feed Phil: Season 6</td>\n",
       "      <td>English</td>\n",
       "      <td>Show</td>\n",
       "      <td>5800000</td>\n",
       "    </tr>\n",
       "    <tr>\n",
       "      <th>6161</th>\n",
       "      <td>1983: Season 1</td>\n",
       "      <td>English</td>\n",
       "      <td>Show</td>\n",
       "      <td>1800000</td>\n",
       "    </tr>\n",
       "    <tr>\n",
       "      <th>8501</th>\n",
       "      <td>24 Hours in A&amp;E: Season 15</td>\n",
       "      <td>English</td>\n",
       "      <td>Show</td>\n",
       "      <td>800000</td>\n",
       "    </tr>\n",
       "    <tr>\n",
       "      <th>10856</th>\n",
       "      <td>Innocent (2018): Season 1</td>\n",
       "      <td>English</td>\n",
       "      <td>Show</td>\n",
       "      <td>400000</td>\n",
       "    </tr>\n",
       "    <tr>\n",
       "      <th>13003</th>\n",
       "      <td>First Class: Season 1</td>\n",
       "      <td>English</td>\n",
       "      <td>Show</td>\n",
       "      <td>200000</td>\n",
       "    </tr>\n",
       "  </tbody>\n",
       "</table>\n",
       "</div>"
      ],
      "text/plain": [
       "                              Title Language Indicator Content Type  \\\n",
       "3               Wednesday: Season 1            English         Show   \n",
       "3193   Somebody Feed Phil: Season 6            English         Show   \n",
       "6161                 1983: Season 1            English         Show   \n",
       "8501     24 Hours in A&E: Season 15            English         Show   \n",
       "10856     Innocent (2018): Season 1            English         Show   \n",
       "13003         First Class: Season 1            English         Show   \n",
       "\n",
       "       Hours Viewed  \n",
       "3         507700000  \n",
       "3193        5800000  \n",
       "6161        1800000  \n",
       "8501         800000  \n",
       "10856        400000  \n",
       "13003        200000  "
      ]
     },
     "execution_count": 22,
     "metadata": {},
     "output_type": "execute_result"
    }
   ],
   "source": [
    "import numpy as np\n",
    "\n",
    "def recommend_similar(content_title, top_k=5):\n",
    "    # Find the content in the dataset\n",
    "    content_row = df[df['Title'].str.contains(content_title, case=False, na=False)].iloc[0]\n",
    "    content_id = content_row['Content_ID']\n",
    "    language_id = content_row['Language_ID']\n",
    "    content_type_id = content_row['ContentType_ID']\n",
    "    \n",
    "    # Predict similarity\n",
    "    predictions = model.predict({\n",
    "        'content_id': np.array([content_id]),\n",
    "        'language_id': np.array([language_id]),\n",
    "        'content_type': np.array([content_type_id])\n",
    "    })\n",
    "    \n",
    "    # Get top recommended content\n",
    "    top_indices = predictions[0].argsort()[-top_k-1:][::-1]\n",
    "    recommendations = df[df['Content_ID'].isin(top_indices)]\n",
    "    return recommendations[['Title', 'Language Indicator', 'Content Type', 'Hours Viewed']]\n",
    "\n",
    "# Example recommendation\n",
    "recommend_similar(\"Wednesday\")"
   ]
  },
  {
   "cell_type": "markdown",
   "id": "d3e92045",
   "metadata": {},
   "source": [
    "By using embeddings, the model can suggest titles that are **similar in language, type, and popularity**. Even without user feedback, we can get reasonable recommendations.\n"
   ]
  },
  {
   "cell_type": "markdown",
   "id": "3a883545",
   "metadata": {},
   "source": [
    "## Final Summary\n",
    "\n",
    "In this project, I built a **content-based recommendation system** using Netflix metadata and TensorFlow. By encoding content features into embeddings, the model learned which titles are similar. After training, it can recommend other shows/movies like a given title, for example: if someone liked *Wednesday*, it can suggest similar content.\n"
   ]
  }
 ],
 "metadata": {
  "kernelspec": {
   "display_name": "base",
   "language": "python",
   "name": "python3"
  },
  "language_info": {
   "codemirror_mode": {
    "name": "ipython",
    "version": 3
   },
   "file_extension": ".py",
   "mimetype": "text/x-python",
   "name": "python",
   "nbconvert_exporter": "python",
   "pygments_lexer": "ipython3",
   "version": "3.12.3"
  }
 },
 "nbformat": 4,
 "nbformat_minor": 5
}
